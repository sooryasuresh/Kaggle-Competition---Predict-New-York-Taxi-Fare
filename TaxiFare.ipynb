{
  "cells": [
    {
      "metadata": {
        "_uuid": "8f2839f25d086af736a60e9eeb907d3b93b6e0e5",
        "_cell_guid": "b1076dfc-b9ad-4769-8c92-a6c4dae69d19",
        "trusted": true
      },
      "cell_type": "code",
      "source": "# This Python 3 environment comes with many helpful analytics libraries installed\n# It is defined by the kaggle/python docker image: https://github.com/kaggle/docker-python\n# For example, here's several helpful packages to load in \n\nimport numpy as np # linear algebra\nimport pandas as pd # data processing, CSV file I/O (e.g. pd.read_csv)\nimport seaborn as sns\nimport matplotlib.pyplot as plt\n# Input data files are available in the \"../input/\" directory.\n# For example, running this (by clicking run or pressing Shift+Enter) will list the files in the input directory\n\nimport os\nprint(os.listdir(\"../input\"))\n\n# Any results you write to the current directory are saved as output.",
      "execution_count": null,
      "outputs": []
    },
    {
      "metadata": {
        "_cell_guid": "79c7e3d0-c299-4dcb-8224-4455121ee9b0",
        "_uuid": "d629ff2d2480ee46fbb7e2d37f6b5fab8052498a",
        "trusted": true
      },
      "cell_type": "code",
      "source": "chunksize = 10 ** 6\ndf = pd.DataFrame(columns=['key','fare_amount','pickup_datetime','pickup_longitude','pickup_latitude','dropoff_longitude','dropoff_latitude','passenger_count'])\ni=0\nfor chunk in pd.read_csv(\"../input/train.csv\", chunksize=chunksize):\n    if(i==1):\n        break\n    df = df.append(chunk)\n    print(df.shape[0])\n    i=i+1\ndf_train= pd.DataFrame(df[:-10000])\ndf_test = pd.DataFrame(df[-10000:])",
      "execution_count": null,
      "outputs": []
    },
    {
      "metadata": {
        "trusted": true,
        "_uuid": "0fdb9610b673ca53405e0ab0409a4771c8f49fb8"
      },
      "cell_type": "code",
      "source": "df[df.pickup_latitude > 90]",
      "execution_count": null,
      "outputs": []
    },
    {
      "metadata": {
        "trusted": true,
        "_uuid": "5739921137053c4121a39d9fd784f4eff1446794"
      },
      "cell_type": "code",
      "source": "df[df.pickup_latitude < -90]",
      "execution_count": null,
      "outputs": []
    },
    {
      "metadata": {
        "trusted": true,
        "_uuid": "26d255517ad929257665a95bb9d530f013d80be4"
      },
      "cell_type": "code",
      "source": "plt.scatter(df[\"pickup_longitude\"], df[\"pickup_latitude\"])",
      "execution_count": null,
      "outputs": []
    },
    {
      "metadata": {
        "trusted": true,
        "_uuid": "d2e970a448b307d92cfea288b50697d25c2f27b5"
      },
      "cell_type": "code",
      "source": "df = df[(df.pickup_latitude >= -90) & (df.pickup_latitude <=90)]\ndf = df[(df.pickup_longitude >= -180) & (df.pickup_longitude <= 180)]",
      "execution_count": null,
      "outputs": []
    },
    {
      "metadata": {
        "trusted": true,
        "_uuid": "3e95a051519f0f3e37475445f77987f798962a98"
      },
      "cell_type": "code",
      "source": "plt.scatter(df[\"pickup_longitude\"], df[\"pickup_latitude\"])\nplt.xlim(-74.00, -73.75)\nplt.ylim(40.650, 40.850)\nplt.show()",
      "execution_count": null,
      "outputs": []
    },
    {
      "metadata": {
        "trusted": true,
        "_uuid": "061e93022eb48ab9144001f9beb62e9dd4ae922c"
      },
      "cell_type": "code",
      "source": "df[df.dropoff_latitude > 90]",
      "execution_count": null,
      "outputs": []
    },
    {
      "metadata": {
        "trusted": true,
        "_uuid": "33dc2cef99ce5c9b25b6c4125c58b0a52bbdc3e9"
      },
      "cell_type": "code",
      "source": "df[df.dropoff_latitude < -90]",
      "execution_count": null,
      "outputs": []
    },
    {
      "metadata": {
        "trusted": true,
        "_uuid": "0493b48d02b51c3f7f3e5603f6e8b5a904a314e5"
      },
      "cell_type": "code",
      "source": "plt.scatter(df[\"dropoff_longitude\"], df[\"dropoff_latitude\"])",
      "execution_count": null,
      "outputs": []
    },
    {
      "metadata": {
        "trusted": true,
        "_uuid": "f67273af4a0973deca90f1912335d43b0513afd6"
      },
      "cell_type": "code",
      "source": "df = df[(df.dropoff_latitude >= -90) & (df.dropoff_latitude <=90)]\ndf = df[(df.dropoff_longitude >= -180) & (df.dropoff_longitude <= 180)]",
      "execution_count": null,
      "outputs": []
    },
    {
      "metadata": {
        "trusted": true,
        "_uuid": "300008addc1df6821db4892b959966717bff3168"
      },
      "cell_type": "code",
      "source": "df.shape",
      "execution_count": null,
      "outputs": []
    },
    {
      "metadata": {
        "trusted": true,
        "_uuid": "6cc732725c8b3db7248e4274a542b3be0c6eaa50"
      },
      "cell_type": "code",
      "source": "from math import radians, cos, sin, asin, sqrt\n\ndef haversine(lon1, lat1, lon2, lat2):\n    # convert decimal degrees to radians \n    lon1, lat1, lon2, lat2 = map(radians, [lon1, lat1, lon2, lat2])\n\n    # haversine formula \n    dlon = lon2 - lon1 \n    dlat = lat2 - lat1 \n    a = sin(dlat/2)**2 + cos(lat1) * cos(lat2) * sin(dlon/2)**2\n    c = 2 * asin(sqrt(a)) \n    r = 6371 # Radius of earth in kilometers. Use 3956 for miles\n    return c * r",
      "execution_count": null,
      "outputs": []
    },
    {
      "metadata": {
        "trusted": true,
        "_uuid": "95725e7ee772c946797c96889d98b48db728f53f"
      },
      "cell_type": "code",
      "source": "df[\"Distance\"] = df.apply(lambda x:haversine(x.dropoff_longitude, x.dropoff_latitude, x.pickup_longitude, x.pickup_latitude),axis =1)",
      "execution_count": null,
      "outputs": []
    },
    {
      "metadata": {
        "trusted": true,
        "_uuid": "1b0667063b924b3709dd4a58c38c18fbcdcca3a6"
      },
      "cell_type": "code",
      "source": "df.shape",
      "execution_count": null,
      "outputs": []
    },
    {
      "metadata": {
        "trusted": true,
        "_uuid": "a28031201db7e4a2b187c029b7a155c2cc0ab2a7"
      },
      "cell_type": "code",
      "source": "df.dtypes",
      "execution_count": null,
      "outputs": []
    },
    {
      "metadata": {
        "trusted": true,
        "_uuid": "3d0797225bde95e631a40d8c4e2fc3bf265c8ece"
      },
      "cell_type": "code",
      "source": "def year(date):\n    year = int(date[0:4])\n    return year",
      "execution_count": null,
      "outputs": []
    },
    {
      "metadata": {
        "trusted": true,
        "_uuid": "2c5d85ebcb33ac522ea4c076a52aee95b6aab9ac"
      },
      "cell_type": "code",
      "source": "def month(date):\n    month = int(date[5:7])\n    return month",
      "execution_count": null,
      "outputs": []
    },
    {
      "metadata": {
        "trusted": true,
        "_uuid": "4a8d86ed370a663de8ca369f957b4a221d5de7dc"
      },
      "cell_type": "code",
      "source": "def day(date):\n    day = int(date[8:10])\n    return day",
      "execution_count": null,
      "outputs": []
    },
    {
      "metadata": {
        "trusted": true,
        "_uuid": "62a43a2cf7f6e8993066ffb470a2bd89cf12ae1f"
      },
      "cell_type": "code",
      "source": "df[\"Year\"] = df.apply(lambda x:year(x.pickup_datetime),axis = 1)\ndf[\"Month\"] = df.apply(lambda x:month(x.pickup_datetime),axis = 1)\ndf[\"Day\"] = df.apply(lambda x:day(x.pickup_datetime),axis = 1)",
      "execution_count": null,
      "outputs": []
    },
    {
      "metadata": {
        "trusted": true,
        "_uuid": "3c8ce1731e485f46a3012d77127bf1f1d5932c2f"
      },
      "cell_type": "code",
      "source": "df.shape",
      "execution_count": null,
      "outputs": []
    },
    {
      "metadata": {
        "trusted": true,
        "_uuid": "074b5312323361105a81a99171b6fd8fc1f8d433"
      },
      "cell_type": "code",
      "source": "def hour(date):\n    hour = int(date[11:13])\n    return hour",
      "execution_count": null,
      "outputs": []
    },
    {
      "metadata": {
        "trusted": true,
        "_uuid": "0b95a87db92d470b8c820cbc2cbe5b717b41dcd4"
      },
      "cell_type": "code",
      "source": "df[\"Hour\"] = df.apply(lambda x:hour(x.pickup_datetime),axis = 1)",
      "execution_count": null,
      "outputs": []
    },
    {
      "metadata": {
        "trusted": true,
        "_uuid": "7c30badc840e69050b9163d103e617a1cbd8cb1d"
      },
      "cell_type": "code",
      "source": "df.head(10)",
      "execution_count": null,
      "outputs": []
    },
    {
      "metadata": {
        "trusted": true,
        "_uuid": "821179a2336c1033c7414d104c41dca3cce0a67b"
      },
      "cell_type": "code",
      "source": "plt.scatter(df[\"Hour\"], df[\"fare_amount\"])",
      "execution_count": null,
      "outputs": []
    },
    {
      "metadata": {
        "trusted": true,
        "_uuid": "fc9e8ac8f92fc2af9e604bb3dd119f77a6c61752"
      },
      "cell_type": "code",
      "source": "df.shape",
      "execution_count": null,
      "outputs": []
    },
    {
      "metadata": {
        "trusted": true,
        "_uuid": "e484c8938b05cee20339c4db6fcd61bff9ba126b"
      },
      "cell_type": "code",
      "source": "df = df[(df.fare_amount > 0) & (df.fare_amount <= 200)]",
      "execution_count": null,
      "outputs": []
    },
    {
      "metadata": {
        "trusted": true,
        "_uuid": "65cac062c6f422331ce3afdf13274fa596ff0be4"
      },
      "cell_type": "code",
      "source": "df.shape",
      "execution_count": null,
      "outputs": []
    },
    {
      "metadata": {
        "trusted": true,
        "_uuid": "a505cbacd66dd117841fc730337d1b0108f603f2"
      },
      "cell_type": "code",
      "source": "plt.scatter(df[\"Hour\"], df[\"fare_amount\"])",
      "execution_count": null,
      "outputs": []
    },
    {
      "metadata": {
        "trusted": true,
        "_uuid": "0ec4d2771aefcdfd607c050ab7bd0597a6f18b59"
      },
      "cell_type": "code",
      "source": "import datetime",
      "execution_count": null,
      "outputs": []
    },
    {
      "metadata": {
        "trusted": true,
        "_uuid": "407e8b7db3fb609cd650129c538aef150a2a6b2f"
      },
      "cell_type": "code",
      "source": "def dayOfWeekHelper(weekday):\n    if weekday == 0:\n        return \"Monday\"\n    elif weekday == 1:\n        return \"Tuesday\"\n    elif weekday == 2:\n        return \"Wednesday\"\n    elif weekday == 3:\n        return \"Thursday\"\n    elif weekday == 4:\n        return \"Friday\"\n    elif weekday == 5:\n        return \"Saturday\"\n    else:\n        return \"Sunday\"\ndef dayOfWeek(year, month, day):\n    weekday = datetime.date(year, month, day).weekday()\n    final = dayOfWeekHelper(weekday)\n    return final",
      "execution_count": null,
      "outputs": []
    },
    {
      "metadata": {
        "trusted": true,
        "_uuid": "dc013edc921e1cb106142d5439e1092eafcf280c"
      },
      "cell_type": "code",
      "source": "df.head(30)",
      "execution_count": null,
      "outputs": []
    },
    {
      "metadata": {
        "trusted": true,
        "_uuid": "b93f23d19ece7bdb0ee71623f1046f6b1aa6058b"
      },
      "cell_type": "code",
      "source": "",
      "execution_count": null,
      "outputs": []
    },
    {
      "metadata": {
        "trusted": true,
        "_uuid": "a6c83bf48ff115fb0daff21dcbc596ba93dd5f58"
      },
      "cell_type": "code",
      "source": "",
      "execution_count": null,
      "outputs": []
    }
  ],
  "metadata": {
    "kernelspec": {
      "display_name": "Python 3",
      "language": "python",
      "name": "python3"
    },
    "language_info": {
      "name": "python",
      "version": "3.6.6",
      "mimetype": "text/x-python",
      "codemirror_mode": {
        "name": "ipython",
        "version": 3
      },
      "pygments_lexer": "ipython3",
      "nbconvert_exporter": "python",
      "file_extension": ".py"
    }
  },
  "nbformat": 4,
  "nbformat_minor": 1
}